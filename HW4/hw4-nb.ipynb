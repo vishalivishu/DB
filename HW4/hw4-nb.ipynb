{
 "cells": [
  {
   "cell_type": "code",
   "execution_count": 1,
   "metadata": {
    "collapsed": true
   },
   "outputs": [],
   "source": [
    "import tensorflow as tf"
   ]
  },
  {
   "cell_type": "code",
   "execution_count": 3,
   "metadata": {
    "collapsed": false
   },
   "outputs": [
    {
     "name": "stdout",
     "output_type": "stream",
     "text": [
      "[ 5.83095169  2.23606801  8.24621105]\n"
     ]
    }
   ],
   "source": [
    "a = tf.constant([5, 2, 8])\n",
    "b = tf.constant([3, 1, 2])\n",
    "af = tf.to_float(a,name = 'afloat')\n",
    "bf = tf.to_float(b,name = 'bfloat')\n",
    "a_sq = tf.square(af,None)\n",
    "b_sq = tf.square(bf,None)\n",
    "c_sq = tf.add(a_sq,b_sq)\n",
    "c = tf.sqrt(c_sq,None)\n",
    "session = tf.InteractiveSession()\n",
    "result = session.run(c)\n",
    "print result"
   ]
  },
  {
   "cell_type": "code",
   "execution_count": null,
   "metadata": {
    "collapsed": true
   },
   "outputs": [],
   "source": []
  }
 ],
 "metadata": {
  "kernelspec": {
   "display_name": "Python 2",
   "language": "python",
   "name": "python2"
  },
  "language_info": {
   "codemirror_mode": {
    "name": "ipython",
    "version": 2
   },
   "file_extension": ".py",
   "mimetype": "text/x-python",
   "name": "python",
   "nbconvert_exporter": "python",
   "pygments_lexer": "ipython2",
   "version": "2.7.9"
  }
 },
 "nbformat": 4,
 "nbformat_minor": 2
}
